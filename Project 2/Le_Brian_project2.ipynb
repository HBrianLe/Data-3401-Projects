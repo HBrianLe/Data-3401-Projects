{
 "cells": [
  {
   "cell_type": "markdown",
   "metadata": {},
   "source": [
    "# Project 2: Inference and Capital Punishment\n",
    "\n",
    "Welcome to Project 2!  You will investigate the relationship between murder and capital punishment (the death penalty) in the United States.  By the end of the project, you should know how to:\n",
    "\n",
    "1. Test whether observed data appears to be a random sample from a distribution\n",
    "2. Analyze a natural experiment\n",
    "3. Implement and interpret a sign test\n",
    "4. Create a function to run a general hypothesis test\n",
    "5. Analyze visualizations and draw conclusions from them\n",
    "\n",
    "#### Due Date\n",
    "\n",
    "The entire project (parts 1, 2, 3, 4, and 5) will be due **Wednesday, November 7th at 11:59PM**. (Again, see the note above on submitting with a partner.)\n",
    "\n",
    "#### On to the project!\n",
    "\n",
    "**Run the cell below** to prepare the automatic tests. The automated tests for this project **definitely don't** catch all possible errors; they're designed to help you avoid some common mistakes.  Merely passing the tests does not guarantee full credit on any question."
   ]
  },
  {
   "cell_type": "code",
   "execution_count": 1,
   "metadata": {},
   "outputs": [
    {
     "name": "stderr",
     "output_type": "stream",
     "text": [
      "C:\\Users\\lebri\\Anaconda3\\lib\\site-packages\\datascience\\tables.py:17: MatplotlibDeprecationWarning: The 'warn' parameter of use() is deprecated since Matplotlib 3.1 and will be removed in 3.3.  If any parameter follows 'warn', they should be pass as keyword, not positionally.\n",
      "  matplotlib.use('agg', warn=False)\n",
      "C:\\Users\\lebri\\Anaconda3\\lib\\site-packages\\datascience\\util.py:10: MatplotlibDeprecationWarning: The 'warn' parameter of use() is deprecated since Matplotlib 3.1 and will be removed in 3.3.  If any parameter follows 'warn', they should be pass as keyword, not positionally.\n",
      "  matplotlib.use('agg', warn=False)\n"
     ]
    }
   ],
   "source": [
    "# Run this cell to set up the notebook, but please don't change it.\n",
    "import numpy as np\n",
    "from datascience import *\n",
    "\n",
    "# These lines do some fancy plotting magic.\n",
    "import matplotlib\n",
    "%matplotlib inline\n",
    "import matplotlib.pyplot as plt\n",
    "plt.style.use('fivethirtyeight')\n",
    "import warnings\n",
    "warnings.simplefilter('ignore', FutureWarning)\n"
   ]
  },
  {
   "cell_type": "markdown",
   "metadata": {},
   "source": [
    "## 1. Murder rates\n",
    "Punishment for crime has many [philosophical justifications](http://plato.stanford.edu/entries/punishment/#ThePun).  An important one is that fear of punishment may *deter* people from committing crimes.\n",
    "\n",
    "In the United States, some jurisdictions execute some people who are convicted of particularly serious crimes, like murder.  This punishment is called the *death penalty* or *capital punishment*.  The death penalty is controversial, and deterrence has been one focal point of the debate.  There are other reasons to support or oppose the death penalty, but in this project we'll focus on deterrence.\n",
    "\n",
    "The key question about deterrence is:\n",
    "\n",
    "> Does instituting a death penalty for murder actually reduce the number of murders?\n",
    "\n",
    "You might have a strong intuition in one direction, but the evidence turns out to be surprisingly complex.  Different sides have variously argued that the death penalty has no deterrent effect and that each execution prevents 8 murders, all using statistical arguments!  We'll try to come to our own conclusion.\n",
    "\n",
    "Here is a road map for this project:\n",
    "\n",
    "1. In the rest of this section, we'll investigate the main dataset we'll be using.\n",
    "2. In section 2, we'll see how to test null hypotheses like this: \"For this set of U.S. states, the murder rate was equally likely to go up or down each year.\"\n",
    "3. In section 3, we'll apply a similar test to see whether U.S. states that suddenly ended or reinstituted the death penalty were more likely to see murder rates increase than decrease.\n",
    "4. In section 4, we will run some more tests to further claims we had been developing in previous sections. \n",
    "5. In section 5, we'll try to answer our question about deterrence using a visualization rather than a formal hypothesis test.\n",
    "\n",
    "\n",
    "#### The data\n",
    "The main data source for this project comes from a [paper](http://cjlf.org/deathpenalty/DezRubShepDeterFinal.pdf) by three researchers, Dezhbakhsh, Rubin, and Shepherd.  The dataset contains rates of various violent crimes for every year 1960-2003 (44 years) in every US state.  The researchers compiled their data from the FBI's Uniform Crime Reports.\n",
    "\n",
    "Since crimes are committed by people, not states, we need to account for the number of people in each state when we're looking at state-level data.  Murder rates are calculated as follows:\n",
    "\n",
    "$$\\text{murder rate for state X in year Y} = \\frac{\\text{number of murders in state X in year Y}}{\\text{population in state X in year Y}}*100000$$\n",
    "\n",
    "(Murder is rare, so we multiply by 100,000 just to avoid dealing with tiny numbers.)"
   ]
  },
  {
   "cell_type": "code",
   "execution_count": 2,
   "metadata": {},
   "outputs": [
    {
     "data": {
      "text/html": [
       "<table border=\"1\" class=\"dataframe\">\n",
       "    <thead>\n",
       "        <tr>\n",
       "            <th>State</th> <th>Year</th> <th>Population</th> <th>Murder Rate</th>\n",
       "        </tr>\n",
       "    </thead>\n",
       "    <tbody>\n",
       "        <tr>\n",
       "            <td>Alaska</td> <td>1960</td> <td>226,167   </td> <td>10.2       </td>\n",
       "        </tr>\n",
       "        <tr>\n",
       "            <td>Alaska</td> <td>1961</td> <td>234,000   </td> <td>11.5       </td>\n",
       "        </tr>\n",
       "        <tr>\n",
       "            <td>Alaska</td> <td>1962</td> <td>246,000   </td> <td>4.5        </td>\n",
       "        </tr>\n",
       "        <tr>\n",
       "            <td>Alaska</td> <td>1963</td> <td>248,000   </td> <td>6.5        </td>\n",
       "        </tr>\n",
       "        <tr>\n",
       "            <td>Alaska</td> <td>1964</td> <td>250,000   </td> <td>10.4       </td>\n",
       "        </tr>\n",
       "        <tr>\n",
       "            <td>Alaska</td> <td>1965</td> <td>253,000   </td> <td>6.3        </td>\n",
       "        </tr>\n",
       "        <tr>\n",
       "            <td>Alaska</td> <td>1966</td> <td>272,000   </td> <td>12.9       </td>\n",
       "        </tr>\n",
       "        <tr>\n",
       "            <td>Alaska</td> <td>1967</td> <td>272,000   </td> <td>9.6        </td>\n",
       "        </tr>\n",
       "        <tr>\n",
       "            <td>Alaska</td> <td>1968</td> <td>277,000   </td> <td>10.5       </td>\n",
       "        </tr>\n",
       "        <tr>\n",
       "            <td>Alaska</td> <td>1969</td> <td>282,000   </td> <td>10.6       </td>\n",
       "        </tr>\n",
       "    </tbody>\n",
       "</table>\n",
       "<p>... (2190 rows omitted)</p>"
      ],
      "text/plain": [
       "State  | Year | Population | Murder Rate\n",
       "Alaska | 1960 | 226,167    | 10.2\n",
       "Alaska | 1961 | 234,000    | 11.5\n",
       "Alaska | 1962 | 246,000    | 4.5\n",
       "Alaska | 1963 | 248,000    | 6.5\n",
       "Alaska | 1964 | 250,000    | 10.4\n",
       "Alaska | 1965 | 253,000    | 6.3\n",
       "Alaska | 1966 | 272,000    | 12.9\n",
       "Alaska | 1967 | 272,000    | 9.6\n",
       "Alaska | 1968 | 277,000    | 10.5\n",
       "Alaska | 1969 | 282,000    | 10.6\n",
       "... (2190 rows omitted)"
      ]
     },
     "execution_count": 2,
     "metadata": {},
     "output_type": "execute_result"
    }
   ],
   "source": [
    "murder_rates = Table.read_table('crime_rates.csv').select('State', 'Year', 'Population', 'Murder Rate')\n",
    "murder_rates.set_format(\"Population\", NumberFormatter)\n"
   ]
  },
  {
   "cell_type": "markdown",
   "metadata": {},
   "source": [
    "So far, this looks like a dataset that lends itself to an observational study.  In fact, these data aren't even enough to demonstrate an *association* between the existence of the death penalty in a state in a year and the murder rate in that state and year!\n",
    "\n",
    "**Question 1.1.** What additional information will we need before we can check for that association?"
   ]
  },
  {
   "cell_type": "markdown",
   "metadata": {},
   "source": [
    "*We would also need information about the death penalty. This can be if the state has it or not and the usage of the death penalty as each state has a different use amount. We need to also adjust all values in terms of the population size as each state has a range of people in it. *"
   ]
  },
  {
   "cell_type": "markdown",
   "metadata": {},
   "source": [
    "Murder rates vary over time, and different states exhibit different trends. The rates in some states change dramatically from year to year, while others are quite stable. Let's plot a couple, just to see the variety.\n",
    "\n",
    "**Question 1.2.** Draw a line plot with years on the horizontal axis and murder rates on the \n",
    "vertical axis. Include two lines: one for Alaska murder rates and one for Minnesota murder rates. Create this plot using a single call, `ak_mn.plot('Year')`.\n",
    "\n",
    "*Hint*: To create two lines, you will need create the table `ak_mn` with two columns of murder rates, in addition to a column of years. You can use `join` to create this table, which will have the following structure:\n",
    "\n",
    "| Year | Murder rate in Alaska | Murder rate in Minnesota |\n",
    "|------|-----------------------|--------------------------|\n",
    "| 1960 | 10.2                  | 1.2                      |\n",
    "| 1961 | 11.5                  | 1                        |\n",
    "| 1962 | 4.5                   | 0.9                      |"
   ]
  },
  {
   "cell_type": "code",
   "execution_count": 3,
   "metadata": {},
   "outputs": [
    {
     "data": {
      "image/png": "[encoded data removed]",
      "text/plain": [
       "<Figure size 432x288 with 1 Axes>"
      ]
     },
     "metadata": {},
     "output_type": "display_data"
    }
   ],
   "source": [
    "# The next lines are provided for you.  They create a table\n",
    "# containing only the Alaska information and one containing\n",
    "# only the Minnesota information.\n",
    "ak = murder_rates.where('State', 'Alaska').drop('State', 'Population').relabeled(1, 'Murder rate in Alaska')\n",
    "mn = murder_rates.where('State', 'Minnesota').drop('State', 'Population').relabeled(1, 'Murder rate in Minnesota')\n",
    "\n",
    "# Fill in this line to make a table like the one pictured above.\n",
    "ak_mn = ak.join('Year',mn)\n",
    "ak_mn.plot('Year')"
   ]
  },
  {
   "cell_type": "markdown",
   "metadata": {},
   "source": [
    "##### A reminder about tests\n",
    "The automated tests check for basic errors (like the number of rows in your `ak_mn` table, or whether you defined a function named `most_murderous` for the next question), but they **aren't comprehensive**.\n",
    "\n",
    "If you're not sure that your answer is correct, think about how you can check it.  For example, if a table has the right number of rows and columns, and a few randomly-selected values from each column are correct, then you can be somewhat confident you've computed it correctly.  For the previous question, try checking some of the values in `ak_mn` manually, by searching through the `murder_rates` table."
   ]
  },
  {
   "cell_type": "markdown",
   "metadata": {},
   "source": [
    "**Question 1.3.** Implement the function `most_murderous`, which takes a year (an integer) as its argument. It does two things:\n",
    "1. It draws a horizontal bar chart of the 5 states that had the highest murder rate in that year.\n",
    "2. It returns an array of the names of these states in order of *increasing* murder rate.\n",
    "\n",
    "If the argument isn't a year in `murder_rates`, your function can do anything."
   ]
  },
  {
   "cell_type": "code",
   "execution_count": 4,
   "metadata": {},
   "outputs": [
    {
     "data": {
      "text/plain": [
       "array(['Louisiana', 'New York', 'Texas', 'Mississippi', 'California'],\n",
       "      dtype='<U14')"
      ]
     },
     "execution_count": 4,
     "metadata": {},
     "output_type": "execute_result"
    },
    {
     "data": {
      "image/png": "[encoded data removed]",
      "text/plain": [
       "<Figure size 432x288 with 1 Axes>"
      ]
     },
     "metadata": {},
     "output_type": "display_data"
    }
   ],
   "source": [
    "def most_murderous(year):\n",
    "    # Fill in this line so that the next 2 lines do what the function\n",
    "    # is supposed to do.  most should be a table.\n",
    "    most = murder_rates.where('Year',are.equal_to(year)).sort('Murder Rate',descending = True).take(np.arange(0,5))\n",
    "    most.barh('State', 'Murder Rate')\n",
    "    return most.column('State')\n",
    "\n",
    "most_murderous(1990)"
   ]
  },
  {
   "cell_type": "markdown",
   "metadata": {},
   "source": [
    "**Question 1.4.** How many more people were murdered in California in 1988 than in 1975? Assign `ca_change` to the answer.\n",
    "\n",
    "*Hint*: Consider using the formula in the beginning of the section to answer this question. "
   ]
  },
  {
   "cell_type": "code",
   "execution_count": 6,
   "metadata": {},
   "outputs": [
    {
     "data": {
      "text/plain": [
       "726.0"
      ]
     },
     "execution_count": 6,
     "metadata": {},
     "output_type": "execute_result"
    }
   ],
   "source": [
    "ca = murder_rates.where('State', are.equal_to('California'))\n",
    "ca_murder_count = ca.with_column('Murder Count', (ca.column(3)*ca.column(2))/100000)\n",
    "ca_change_array = ca_murder_count.where('Year',1988)[4] - ca_murder_count.where('Year',1975)[4] \n",
    "ca_change = ca_change_array[0]\n",
    "np.round(ca_change)"
   ]
  },
  {
   "cell_type": "markdown",
   "metadata": {},
   "source": [
    "Certain mistakes would make your answer to the previous question way too small or way too big, and the automatic tests don't check that.  Make sure your answer looks reasonable after carefully reading the question."
   ]
  },
  {
   "cell_type": "markdown",
   "metadata": {},
   "source": [
    "# 2. Changes in Murder Rates\n",
    "\n",
    "Murder rates vary widely across states and years, presumably due to the vast array of differences among states and across US history. Rather than attempting to analyze rates themselves, here we will restrict our analysis to whether or not murder rates increased or decreased over certain time spans. We will not concern ourselves with how much rates increased or decreased; only the direction of the change - *whether* they increased or decreased."
   ]
  },
  {
   "cell_type": "markdown",
   "metadata": {},
   "source": [
    "The `np.diff` function takes an array of values and computes the differences between adjacent items of a list or array. Instead, we may wish to compute the difference between items that are two positions apart. For example, given a 5-element array, we may want:\n",
    "\n",
    "    [item 2 - item 0 , item 3 - item 1 , item 4 - item 2]\n",
    "    \n",
    "The `diff_n` function below computes this result. Don't worry if the implementation doesn't make sense to you, as long as you understand its behavior."
   ]
  },
  {
   "cell_type": "code",
   "execution_count": 7,
   "metadata": {},
   "outputs": [
    {
     "data": {
      "text/plain": [
       "array([  99,  990, 9900], dtype=int64)"
      ]
     },
     "execution_count": 7,
     "metadata": {},
     "output_type": "execute_result"
    }
   ],
   "source": [
    "def diff_n(values, n):\n",
    "    return np.array(values)[n:] - np.array(values)[:-n]\n",
    "\n",
    "diff_n(make_array(1, 10, 100, 1000, 10000), 2)"
   ]
  },
  {
   "cell_type": "markdown",
   "metadata": {},
   "source": [
    "**Question 2.1.** Implement the function `two_year_changes` that takes an array of murder rates for a state, ordered by increasing year. For all two-year periods (e.g., from 1960 to 1962), it computes and returns the number of increases minus the number of decreases.\n",
    "\n",
    "For example, the rates `r = make_array(10, 7, 12, 9, 13, 9, 11)` contain three increases (10 to 12, 7 to 9, and 12 to 13), one decrease (13 to 11), and one change that is neither an increase or decrease (9 to 9). Therefore, `two_year_changes(r)` would return 2, the difference between three increases and 1 decrease.\n",
    "\n",
    "*Hint: Use the np.count_nonzero function in two ways*"
   ]
  },
  {
   "cell_type": "code",
   "execution_count": 8,
   "metadata": {},
   "outputs": [
    {
     "name": "stdout",
     "output_type": "stream",
     "text": [
      "Alaska: -5\n",
      "Minnesota: 6\n"
     ]
    }
   ],
   "source": [
    "def two_year_changes(rates):\n",
    "    increase = diff_n(rates,2) > 0 \n",
    "    decrease = diff_n(rates,2) < 0 \n",
    "    \n",
    "    increase_count = np.count_nonzero(increase)\n",
    "    decrease_count = np.count_nonzero(decrease)\n",
    "    return increase_count - decrease_count\n",
    "print('Alaska:',    two_year_changes(ak.column('Murder rate in Alaska')))\n",
    "print('Minnesota:', two_year_changes(mn.column('Murder rate in Minnesota')))"
   ]
  },
  {
   "cell_type": "markdown",
   "metadata": {},
   "source": [
    "We can use `two_year_changes` to summarize whether rates are mostly increasing or decreasing over time for some state or group of states. Let's see how it varies across the 50 US states.\n",
    "\n",
    "**Question 2.2.** Assign `changes_by_state` to a table with one row per state that has two columns: the `State` name and the `Murder Rate two_year_changes` statistic computed across all years in our data set for that state.  Its first 2 rows should look like this:\n",
    "\n",
    "|State|Murder Rate two_year_changes|\n",
    "|-|-|\n",
    "|Alabama|-6|\n",
    "|Alaska|-5||\n",
    "\n",
    "*Hint: You can do this in one line (or two if you dont' want to call multiple methods in a single line).  You should be able to deduce the methods from the table above*"
   ]
  },
  {
   "cell_type": "code",
   "execution_count": 9,
   "metadata": {},
   "outputs": [
    {
     "data": {
      "text/html": [
       "<table border=\"1\" class=\"dataframe\">\n",
       "    <thead>\n",
       "        <tr>\n",
       "            <th>State</th> <th>Murder Rate two_year_changes</th>\n",
       "        </tr>\n",
       "    </thead>\n",
       "    <tbody>\n",
       "        <tr>\n",
       "            <td>Alabama    </td> <td>-6                          </td>\n",
       "        </tr>\n",
       "        <tr>\n",
       "            <td>Alaska     </td> <td>-5                          </td>\n",
       "        </tr>\n",
       "        <tr>\n",
       "            <td>Arizona    </td> <td>1                           </td>\n",
       "        </tr>\n",
       "        <tr>\n",
       "            <td>Arkansas   </td> <td>-1                          </td>\n",
       "        </tr>\n",
       "        <tr>\n",
       "            <td>California </td> <td>17                          </td>\n",
       "        </tr>\n",
       "        <tr>\n",
       "            <td>Colorado   </td> <td>-4                          </td>\n",
       "        </tr>\n",
       "        <tr>\n",
       "            <td>Connecticut</td> <td>4                           </td>\n",
       "        </tr>\n",
       "        <tr>\n",
       "            <td>Delaware   </td> <td>-3                          </td>\n",
       "        </tr>\n",
       "        <tr>\n",
       "            <td>Florida    </td> <td>-6                          </td>\n",
       "        </tr>\n",
       "        <tr>\n",
       "            <td>Georgia    </td> <td>-3                          </td>\n",
       "        </tr>\n",
       "    </tbody>\n",
       "</table>\n",
       "<p>... (40 rows omitted)</p>"
      ],
      "text/plain": [
       "State       | Murder Rate two_year_changes\n",
       "Alabama     | -6\n",
       "Alaska      | -5\n",
       "Arizona     | 1\n",
       "Arkansas    | -1\n",
       "California  | 17\n",
       "Colorado    | -4\n",
       "Connecticut | 4\n",
       "Delaware    | -3\n",
       "Florida     | -6\n",
       "Georgia     | -3\n",
       "... (40 rows omitted)"
      ]
     },
     "execution_count": 9,
     "metadata": {},
     "output_type": "execute_result"
    }
   ],
   "source": [
    "changes_by_state = murder_rates.group('State',two_year_changes).drop(1,2)\n",
    "changes_by_state"
   ]
  },
  {
   "cell_type": "code",
   "execution_count": 10,
   "metadata": {},
   "outputs": [
    {
     "data": {
      "image/png": "[encoded data removed]",
      "text/plain": [
       "<Figure size 432x288 with 1 Axes>"
      ]
     },
     "metadata": {},
     "output_type": "display_data"
    }
   ],
   "source": [
    "# Here is a histogram of the two-year changes for the states.\n",
    "# Since there are 50 states, each state contributes 2% to one\n",
    "# bar.\n",
    "changes_by_state.hist(\"Murder Rate two_year_changes\", bins=np.arange(-11, 12, 2))"
   ]
  },
  {
   "cell_type": "markdown",
   "metadata": {},
   "source": [
    "Some states have more increases than decreases (a positive number), while some have more decreases than increases (a negative number). \n",
    "\n",
    "**Question 2.3.** Assign `total_changes` to the total increases minus the total decreases for all two-year periods and all states in our data set."
   ]
  },
  {
   "cell_type": "code",
   "execution_count": 12,
   "metadata": {},
   "outputs": [
    {
     "name": "stdout",
     "output_type": "stream",
     "text": [
      "Total increases minus total decreases, across all states and years: 45\n"
     ]
    }
   ],
   "source": [
    "total_changes = changes_by_state.column(1).sum()\n",
    "print('Total increases minus total decreases, across all states and years:', total_changes)"
   ]
  },
  {
   "cell_type": "markdown",
   "metadata": {},
   "source": [
    "\"More increases than decreases,\" one student exclaims, \"Murder rates tend to go up across two-year periods. What dire times we live in.\"\n",
    "\n",
    "\"Not so fast,\" another student replies, \"Even if murder rates just moved up and down uniformly at random, there would be some difference between the increases and decreases. There were a lot of states and a lot of years, so there were many chances for changes to happen. Perhaps this difference we observed is a typical value when so many changes are observed if the state murder rates increase and decrease at random!\"\n",
    "\n",
    "**Question 2.4.** Set `num_changes` to the number of different two-year periods in the entire data set that could result in a change of a state's murder rate. Include both those periods where a change occurred and the periods where a state's rate happened to stay the same.\n",
    "\n",
    "For example, 1968 to 1970 of Alaska would count as one distinct two-year period. "
   ]
  },
  {
   "cell_type": "code",
   "execution_count": 13,
   "metadata": {},
   "outputs": [
    {
     "data": {
      "text/plain": [
       "2118"
      ]
     },
     "execution_count": 13,
     "metadata": {},
     "output_type": "execute_result"
    }
   ],
   "source": [
    "num_changes = np.count_nonzero(diff_n(murder_rates.column(3),2))\n",
    "num_changes"
   ]
  },
  {
   "cell_type": "markdown",
   "metadata": {},
   "source": [
    "We now have enough information to perform a hypothesis test.\n",
    "\n",
    "> **Null Hypothesis**: State murder rates increase and decrease over two-year periods as if \n",
    "\"increase\" or \"decrease\" were sampled at random from a uniform distribution, like a fair coin flip.\n",
    "\n",
    "Since it's possible that murder rates are more likely to go up or more likely to go down, our alternative hypothesis should contemplate either case:\n",
    "\n",
    "> **Alternative Hypothesis**: State murder rates are *either* more likely or less likely to increase than decrease over two-year periods.\n",
    "\n",
    "*Technical note*: These changes in murder rates are not random samples from any population. They describe all murders in all states over all recent years. However, we can imagine that history could have been different, and that the observed changes are the values observed in only one possible world: the one that happened to occur. In this sense, we can evaluate whether the observed \"total increases minus total decreases\" is consistent with a hypothesis that increases and decreases are drawn at random from a uniform distribution.\n",
    "\n",
    "**Question 2.5** Given these null and alternative hypotheses, define a good test statistic.\n",
    "\n",
    "**Important requirements for your test statistic:** Choose a test statistic for which large positive values are evidence in favor of the alternative hypothesis, and other values are evidence in favor of the null hypothesis.  Your test statistic should depend only on whether murder rates increased or decreased, not on the size of any change."
   ]
  },
  {
   "cell_type": "markdown",
   "metadata": {},
   "source": [
    "*Number of increases - number decreases *"
   ]
  },
  {
   "cell_type": "markdown",
   "metadata": {},
   "source": [
    "The cell below samples increases and decreases at random from a uniform distribution 100 times. The final column of the resulting table gives the number of increases and decreases that resulted from sampling in this way."
   ]
  },
  {
   "cell_type": "code",
   "execution_count": 14,
   "metadata": {},
   "outputs": [
    {
     "data": {
      "text/html": [
       "<table border=\"1\" class=\"dataframe\">\n",
       "    <thead>\n",
       "        <tr>\n",
       "            <th>Change</th> <th>Chance</th> <th>Chance sample</th>\n",
       "        </tr>\n",
       "    </thead>\n",
       "    <tbody>\n",
       "        <tr>\n",
       "            <td>Increase</td> <td>0.5   </td> <td>52           </td>\n",
       "        </tr>\n",
       "        <tr>\n",
       "            <td>Decrease</td> <td>0.5   </td> <td>48           </td>\n",
       "        </tr>\n",
       "    </tbody>\n",
       "</table>"
      ],
      "text/plain": [
       "Change   | Chance | Chance sample\n",
       "Increase | 0.5    | 52\n",
       "Decrease | 0.5    | 48"
      ]
     },
     "execution_count": 14,
     "metadata": {},
     "output_type": "execute_result"
    }
   ],
   "source": [
    "uniform = Table().with_columns(\n",
    "    \"Change\", make_array('Increase', 'Decrease'),\n",
    "    \"Chance\", make_array(0.5,        0.5))\n",
    "uniform.sample_from_distribution('Chance', 100)"
   ]
  },
  {
   "cell_type": "markdown",
   "metadata": {},
   "source": [
    "**Question 2.6.** Complete the simulation below, which samples `num_changes` increases/decreases at random many times and forms an empirical distribution of your test statistic under the null hypothesis.  Your job is to\n",
    "* fill in the function `simulate_under_null`, which simulates a single sample under the null hypothesis, and\n",
    "* fill in its argument when it's called below."
   ]
  },
  {
   "cell_type": "code",
   "execution_count": 15,
   "metadata": {
    "for_assignment_type": "student"
   },
   "outputs": [
    {
     "data": {
      "image/png": "[encoded data removed]",
      "text/plain": [
       "<Figure size 432x288 with 1 Axes>"
      ]
     },
     "metadata": {},
     "output_type": "display_data"
    }
   ],
   "source": [
    "def simulate_under_null(num_chances_to_change):\n",
    "    \"\"\"Simulates some number changing several times, with an equal\n",
    "    chance to increase or decrease.  Returns the value of your\n",
    "    test statistic for these simulated changes.\n",
    "    \n",
    "    num_chances_to_change is the number of times the number changes.\n",
    "    \"\"\"\n",
    "    sample = uniform.sample_from_distribution('Chance',num_chances_to_change)\n",
    "    increase_sample = sample.column(2)[1]\n",
    "    decrease_sample = sample.column(2)[0]\n",
    "    return increase_sample - decrease_sample\n",
    "\n",
    "\n",
    "\n",
    "\n",
    "uniform_samples = make_array()\n",
    "for i in np.arange(5000):\n",
    "    uniform_samples = np.append(uniform_samples, simulate_under_null(num_changes))\n",
    "\n",
    "# Feel free to change the bins if they don't make sense for your test statistic.    \n",
    "Table().with_column('Test statistic under null', uniform_samples).hist(0, bins=np.arange(-200, 300, 25))"
   ]
  },
  {
   "cell_type": "markdown",
   "metadata": {},
   "source": [
    "**Question 2.7.** Looking at this histogram, draw a conclusion about whether murder rates basically increase as often as they decrease. (You *do not* need to compute a P-value for this question.)"
   ]
  },
  {
   "cell_type": "markdown",
   "metadata": {},
   "source": [
    "*The graph shows the data around the result of zero. We can say that the murder rate increases as much as it decreases. There is an even distribution about zero.*"
   ]
  },
  {
   "cell_type": "markdown",
   "metadata": {},
   "source": [
    "# 3. The death penalty\n",
    "\n",
    "Some US states have the death penalty, and others don't, and laws have changed over time. In addition to changes in murder rates, we will also consider whether the death penalty was in force in each state and each year.\n",
    "\n",
    "Using this information, we would like to investigate how the death penalty affects the murder rate of a state."
   ]
  },
  {
   "cell_type": "markdown",
   "metadata": {},
   "source": [
    "**Question 3.1.** Describe this investigation in terms of an experiment. What population are we studying? What is the control group? What is the treatment group? What outcome are we measuring?"
   ]
  },
  {
   "cell_type": "markdown",
   "metadata": {
    "for_assignment_type": "student"
   },
   "source": [
    "*Write your answers below.*\n",
    "\n",
    "- Population: The general population of the states\n",
    "- Control Group: The States without the death penatly\n",
    "- Treatment Group: The staes with the death penalty\n",
    "- Outcome: The result is the increase or decrease of the murder rate based on the resulting death penalty"
   ]
  },
  {
   "cell_type": "markdown",
   "metadata": {},
   "source": [
    "**Question 3.2.** We want to know whether the death penalty *causes* a change in the murder rate.  Why is it not sufficient to compare murder rates in places and times when the death penalty was in force with places and times when it wasn't?"
   ]
  },
  {
   "cell_type": "markdown",
   "metadata": {},
   "source": [
    "*There are state that use the death penalty at diffrent rates and crimes. Not all crimes are equivalent of the penalty. Over time, laws changes including the states that involve the death penalty and punishment given. States might abandon or use the death penalty at times.\n",
    "\n",
    "In some states, even if the death penalty is present, murder rates will stay the same and not change because of the location and history of many areas such as Chicago, where crime is always present and is an issue regardless of the death penalty. *"
   ]
  },
  {
   "cell_type": "markdown",
   "metadata": {},
   "source": [
    "### A Natural Experiment\n",
    "\n",
    "In order to attempt to investigate the causal relationship between the death penalty and murder rates, we're going to take advantage of a *natural experiment*.  A natural experiment happens when something other than experimental design applies a treatment to one group and not to another (control) group, and we can reasonably expect that the treatment and control groups don't have any other systematic differences.\n",
    "\n",
    "Our natural experiment is this: in 1972, a Supreme Court decision called *Furman v. Georgia* banned the death penalty throughout the US.  Suddenly, many states went from having the death penalty to not having the death penalty.\n",
    "\n",
    "As a first step, let's see how murder rates changed before and after the court decision.  We'll define the test as follows:\n",
    "\n",
    "> **Population:** All the states that had the death penalty before the 1972 abolition.  (There is no control group for the states that already lacked the death penalty in 1972, so we must omit them.)  This includes all US states **except** Alaska, Hawaii, Maine, Michigan, Wisconsin, and Minnesota.\n",
    "\n",
    "> **Treatment group:** The states in that population, in the year after 1972.\n",
    "\n",
    "> **Control group:** The states in that population, in the year before 1972.\n",
    "\n",
    "> **Null hypothesis:** Each state's murder rate was equally likely to be higher or lower in the treatment period than in the control period.  (Whether the murder rate increased or decreased in each state was like the flip of a fair coin.)\n",
    "\n",
    "> **Alternative hypothesis:** The murder rate was more likely to increase *or* more likely to decrease.\n",
    "\n",
    "*Technical Note:* It's not clear that the murder rates were a \"sample\" from any larger population.  Again, it's useful to imagine that our data could have come out differently and to test the null hypothesis that the murder rates were equally likely to move up or down.\n",
    "\n",
    "The `death_penalty` table below describes whether each state allowed the death penalty in 1971."
   ]
  },
  {
   "cell_type": "code",
   "execution_count": 16,
   "metadata": {},
   "outputs": [
    {
     "data": {
      "text/html": [
       "<table border=\"1\" class=\"dataframe\">\n",
       "    <thead>\n",
       "        <tr>\n",
       "            <th>State</th> <th>Death Penalty</th>\n",
       "        </tr>\n",
       "    </thead>\n",
       "    <tbody>\n",
       "        <tr>\n",
       "            <td>Alabama    </td> <td>True         </td>\n",
       "        </tr>\n",
       "        <tr>\n",
       "            <td>Alaska     </td> <td>False        </td>\n",
       "        </tr>\n",
       "        <tr>\n",
       "            <td>Arizona    </td> <td>True         </td>\n",
       "        </tr>\n",
       "        <tr>\n",
       "            <td>Arkansas   </td> <td>True         </td>\n",
       "        </tr>\n",
       "        <tr>\n",
       "            <td>California </td> <td>True         </td>\n",
       "        </tr>\n",
       "        <tr>\n",
       "            <td>Colorado   </td> <td>True         </td>\n",
       "        </tr>\n",
       "        <tr>\n",
       "            <td>Connecticut</td> <td>True         </td>\n",
       "        </tr>\n",
       "        <tr>\n",
       "            <td>Delaware   </td> <td>True         </td>\n",
       "        </tr>\n",
       "        <tr>\n",
       "            <td>Florida    </td> <td>True         </td>\n",
       "        </tr>\n",
       "        <tr>\n",
       "            <td>Georgia    </td> <td>True         </td>\n",
       "        </tr>\n",
       "    </tbody>\n",
       "</table>\n",
       "<p>... (40 rows omitted)</p>"
      ],
      "text/plain": [
       "State       | Death Penalty\n",
       "Alabama     | True\n",
       "Alaska      | False\n",
       "Arizona     | True\n",
       "Arkansas    | True\n",
       "California  | True\n",
       "Colorado    | True\n",
       "Connecticut | True\n",
       "Delaware    | True\n",
       "Florida     | True\n",
       "Georgia     | True\n",
       "... (40 rows omitted)"
      ]
     },
     "execution_count": 16,
     "metadata": {},
     "output_type": "execute_result"
    }
   ],
   "source": [
    "non_death_penalty_states = make_array('Alaska', 'Hawaii', 'Maine', 'Michigan', 'Wisconsin', 'Minnesota')\n",
    "def had_death_penalty_in_1971(state):\n",
    "    \"\"\"Returns True if the argument is the name of a state that had the death penalty in 1971.\"\"\"\n",
    "    # The implementation of this function uses a bit of syntax\n",
    "    # we haven't seen before.  Just trust that it behaves as its\n",
    "    # documentation claims.\n",
    "    return state not in non_death_penalty_states\n",
    "\n",
    "states = murder_rates.group('State').select('State')\n",
    "death_penalty = states.with_column('Death Penalty', states.apply(had_death_penalty_in_1971, 0))\n",
    "death_penalty"
   ]
  },
  {
   "cell_type": "code",
   "execution_count": 17,
   "metadata": {},
   "outputs": [
    {
     "data": {
      "text/plain": [
       "44"
      ]
     },
     "execution_count": 17,
     "metadata": {},
     "output_type": "execute_result"
    }
   ],
   "source": [
    "num_death_penalty_states = death_penalty.where(\"Death Penalty\", are.equal_to(True)).num_rows\n",
    "num_death_penalty_states"
   ]
  },
  {
   "cell_type": "markdown",
   "metadata": {},
   "source": [
    "**Question 3.3.** Assign `death_penalty_murder_rates` to a table with the same columns and data as `murder_rates`, but that has only the rows for states that had the death penalty in 1971.\n",
    "\n",
    "The first 2 rows of your table should look like this:\n",
    "\n",
    "|State|Year|Population|Murder Rate|\n",
    "|-----|----|----------|-----------|\n",
    "|Alabama|1960|3266740|12.4|\n",
    "|Alabama|1961|3302000|12.9|"
   ]
  },
  {
   "cell_type": "code",
   "execution_count": 18,
   "metadata": {
    "for_assignment_type": "student"
   },
   "outputs": [
    {
     "data": {
      "text/html": [
       "<table border=\"1\" class=\"dataframe\">\n",
       "    <thead>\n",
       "        <tr>\n",
       "            <th>State</th> <th>Year</th> <th>Population</th> <th>Murder Rate</th>\n",
       "        </tr>\n",
       "    </thead>\n",
       "    <tbody>\n",
       "        <tr>\n",
       "            <td>Alabama</td> <td>1960</td> <td>3,266,740 </td> <td>12.4       </td>\n",
       "        </tr>\n",
       "        <tr>\n",
       "            <td>Alabama</td> <td>1961</td> <td>3,302,000 </td> <td>12.9       </td>\n",
       "        </tr>\n",
       "        <tr>\n",
       "            <td>Alabama</td> <td>1962</td> <td>3,358,000 </td> <td>9.4        </td>\n",
       "        </tr>\n",
       "        <tr>\n",
       "            <td>Alabama</td> <td>1963</td> <td>3,347,000 </td> <td>10.2       </td>\n",
       "        </tr>\n",
       "        <tr>\n",
       "            <td>Alabama</td> <td>1964</td> <td>3,407,000 </td> <td>9.3        </td>\n",
       "        </tr>\n",
       "        <tr>\n",
       "            <td>Alabama</td> <td>1965</td> <td>3,462,000 </td> <td>11.4       </td>\n",
       "        </tr>\n",
       "        <tr>\n",
       "            <td>Alabama</td> <td>1966</td> <td>3,517,000 </td> <td>10.9       </td>\n",
       "        </tr>\n",
       "        <tr>\n",
       "            <td>Alabama</td> <td>1967</td> <td>3,540,000 </td> <td>11.7       </td>\n",
       "        </tr>\n",
       "        <tr>\n",
       "            <td>Alabama</td> <td>1968</td> <td>3,566,000 </td> <td>11.8       </td>\n",
       "        </tr>\n",
       "        <tr>\n",
       "            <td>Alabama</td> <td>1969</td> <td>3,531,000 </td> <td>13.7       </td>\n",
       "        </tr>\n",
       "    </tbody>\n",
       "</table>\n",
       "<p>... (1926 rows omitted)</p>"
      ],
      "text/plain": [
       "State   | Year | Population | Murder Rate\n",
       "Alabama | 1960 | 3,266,740  | 12.4\n",
       "Alabama | 1961 | 3,302,000  | 12.9\n",
       "Alabama | 1962 | 3,358,000  | 9.4\n",
       "Alabama | 1963 | 3,347,000  | 10.2\n",
       "Alabama | 1964 | 3,407,000  | 9.3\n",
       "Alabama | 1965 | 3,462,000  | 11.4\n",
       "Alabama | 1966 | 3,517,000  | 10.9\n",
       "Alabama | 1967 | 3,540,000  | 11.7\n",
       "Alabama | 1968 | 3,566,000  | 11.8\n",
       "Alabama | 1969 | 3,531,000  | 13.7\n",
       "... (1926 rows omitted)"
      ]
     },
     "execution_count": 18,
     "metadata": {},
     "output_type": "execute_result"
    }
   ],
   "source": [
    "# The staff solution used 3 lines of code.\n",
    "#death_penalty.where(\"Death Penalty\", are.equal_to(True))[0]\n",
    "death_penalty_murder_rates = murder_rates.where('State',are.contained_in(death_penalty.where(\"Death Penalty\", are.equal_to(True))[0]))#.where('Year',are.above_or_equal_to(1960))\n",
    "death_penalty_murder_rates"
   ]
  },
  {
   "cell_type": "markdown",
   "metadata": {},
   "source": [
    "The null hypothesis doesn't specify *how* the murder rate changes; it only talks about increasing or decreasing.  So, we will use the same test statistic you defined in section 2."
   ]
  },
  {
   "cell_type": "markdown",
   "metadata": {},
   "source": [
    "**Question 3.4.** Assign to `test_stat_72` the value of the test statistic for the years 1971 to 1973 and the states in `death_penalty_murder_rates`.\n",
    "\n",
    "*Hint:* You have already written nearly the same code in a previous part of this project."
   ]
  },
  {
   "cell_type": "code",
   "execution_count": 19,
   "metadata": {
    "for_assignment_type": "student"
   },
   "outputs": [
    {
     "name": "stdout",
     "output_type": "stream",
     "text": [
      "Increases minus decreases from 1971 to 1973: 22\n"
     ]
    }
   ],
   "source": [
    "# The staff solution took 5 lines of code.\n",
    "Years_71_to_73  = death_penalty_murder_rates.where('Year',are.between_or_equal_to(1971,1973)).drop(1,2)\n",
    "#Years_71_to_73\n",
    "test_stat_72 = Years_71_to_73.group('State',two_year_changes).column(1).sum()\n",
    "#test_stat_72\n",
    "print('Increases minus decreases from 1971 to 1973:', test_stat_72)"
   ]
  },
  {
   "cell_type": "markdown",
   "metadata": {},
   "source": [
    "Look at the data (or perhaps a random sample!) to verify that your answer is correct."
   ]
  },
  {
   "cell_type": "markdown",
   "metadata": {},
   "source": [
    "**Question 3.5.**: Draw an empirical histogram of the statistic under the null hypothesis by simulating the test statistic 5,000 times.\n",
    "\n",
    "*Hint:* In a previous part of this project, you have already written a function that runs such a simulation once."
   ]
  },
  {
   "cell_type": "code",
   "execution_count": 20,
   "metadata": {},
   "outputs": [
    {
     "data": {
      "image/png": "[encoded data removed]",
      "text/plain": [
       "<Figure size 432x288 with 1 Axes>"
      ]
     },
     "metadata": {},
     "output_type": "display_data"
    }
   ],
   "source": [
    "samples = make_array()\n",
    "for i in np.arange(10000):\n",
    "    samples = np.append(samples,simulate_under_null(num_death_penalty_states))\n",
    "# Feel free to change the bins if they don't make sense for your test statistic.\n",
    "Table().with_column('Test statistic under null', samples).hist(bins=np.arange(-4, 28+2, 2))"
   ]
  },
  {
   "cell_type": "markdown",
   "metadata": {},
   "source": [
    "# 4. Further evidence\n",
    "\n",
    "So far, we have discovered evidence that when executions were outlawed, the murder rate increased in many more states than we would expect from random chance. We have also seen that across all states and all recent years, the murder rate goes up about as much as it goes down over two-year periods. \n",
    "\n",
    "These discoveries seem to support the claim that eliminating the death penalty increases the murder rate. Should we be convinced? Let's conduct some more tests to strengthen our claim.\n",
    "\n",
    "Conducting a test for this data set required the following steps:\n",
    "\n",
    "1. Select a table containing murder rates for certain states and all years,\n",
    "2. Choose two years and compute the observed value of the test statistic,\n",
    "3. Simulate the test statistic under the null hypothesis that increases and decreases are drawn uniformly at random, then\n",
    "4. Compare the observed difference to the empirical distribution to compute a P-value."
   ]
  },
  {
   "cell_type": "markdown",
   "metadata": {},
   "source": [
    "This entire process can be expressed in a single function, called `run_test`.\n",
    "\n",
    "**Question 4.1.** Implement `run_test`, which takes the following arguments:\n",
    "\n",
    "- A table of murder `rates` for certain states, sorted by state and year like `murder_rates`, and\n",
    "- the year when the analysis starts.  (The comparison group is two years later.)\n",
    "\n",
    "It prints out the observed test statistic and returns the P-value for this statistic under the null hypothesis.\n",
    "\n",
    "*Hint 1*: You can complete most of this question by copying code you wrote earlier. \n",
    "\n",
    "*Hint 2*: This problem might seem daumting.  Start by writing out the different steps involved in running a test."
   ]
  },
  {
   "cell_type": "code",
   "execution_count": 21,
   "metadata": {},
   "outputs": [
    {
     "name": "stdout",
     "output_type": "stream",
     "text": [
      "Test statistic 1960 to 1962 : -9\n"
     ]
    },
    {
     "data": {
      "text/plain": [
       "0.091"
      ]
     },
     "execution_count": 21,
     "metadata": {},
     "output_type": "execute_result"
    }
   ],
   "source": [
    "def run_test(rates, start_year):\n",
    "    \"\"\"Return a P-value for the observed difference between increases and decreases.\"\"\"\n",
    "    end_year = start_year + 2\n",
    "\n",
    "    dates_select = rates.where(\"Year\",are.between_or_equal_to(start_year,end_year)).drop(1,2)\n",
    "\n",
    "    changes_by_state = dates_select.group('State',two_year_changes)\n",
    "    inc = np.count_nonzero(changes_by_state.column(1) > 0 ) \n",
    "    dec = np.count_nonzero(changes_by_state.column(1) < 0 )\n",
    "    observed_test_statistic = inc - dec\n",
    "\n",
    "    print('Test statistic', start_year, 'to', end_year, ':', observed_test_statistic)\n",
    "    num_states = rates.group('State').num_rows\n",
    "\n",
    "    samples = make_array()\n",
    "    for i in np.arange(5000):\n",
    "        samples = np.append(samples,simulate_under_null(num_states))\n",
    "    return np.count_nonzero(samples <= observed_test_statistic)/5000\n",
    "\n",
    "\n",
    "run_test(death_penalty_murder_rates, 1960)"
   ]
  },
  {
   "cell_type": "code",
   "execution_count": 22,
   "metadata": {},
   "outputs": [
    {
     "data": {
      "text/html": [
       "<table border=\"1\" class=\"dataframe\">\n",
       "    <thead>\n",
       "        <tr>\n",
       "            <th>State</th> <th>Murder Rate two_year_changes</th>\n",
       "        </tr>\n",
       "    </thead>\n",
       "    <tbody>\n",
       "        <tr>\n",
       "            <td>Alabama    </td> <td>-6                          </td>\n",
       "        </tr>\n",
       "        <tr>\n",
       "            <td>Alaska     </td> <td>-5                          </td>\n",
       "        </tr>\n",
       "        <tr>\n",
       "            <td>Arizona    </td> <td>1                           </td>\n",
       "        </tr>\n",
       "        <tr>\n",
       "            <td>Arkansas   </td> <td>-1                          </td>\n",
       "        </tr>\n",
       "        <tr>\n",
       "            <td>California </td> <td>17                          </td>\n",
       "        </tr>\n",
       "        <tr>\n",
       "            <td>Colorado   </td> <td>-4                          </td>\n",
       "        </tr>\n",
       "        <tr>\n",
       "            <td>Connecticut</td> <td>4                           </td>\n",
       "        </tr>\n",
       "        <tr>\n",
       "            <td>Delaware   </td> <td>-3                          </td>\n",
       "        </tr>\n",
       "        <tr>\n",
       "            <td>Florida    </td> <td>-6                          </td>\n",
       "        </tr>\n",
       "        <tr>\n",
       "            <td>Georgia    </td> <td>-3                          </td>\n",
       "        </tr>\n",
       "    </tbody>\n",
       "</table>\n",
       "<p>... (40 rows omitted)</p>"
      ],
      "text/plain": [
       "State       | Murder Rate two_year_changes\n",
       "Alabama     | -6\n",
       "Alaska      | -5\n",
       "Arizona     | 1\n",
       "Arkansas    | -1\n",
       "California  | 17\n",
       "Colorado    | -4\n",
       "Connecticut | 4\n",
       "Delaware    | -3\n",
       "Florida     | -6\n",
       "Georgia     | -3\n",
       "... (40 rows omitted)"
      ]
     },
     "execution_count": 22,
     "metadata": {},
     "output_type": "execute_result"
    }
   ],
   "source": [
    "changes_by_state"
   ]
  },
  {
   "cell_type": "markdown",
   "metadata": {},
   "source": [
    "### The rest of the states\n",
    "\n",
    "We found a dramatic increase in murder rates for those states affected by the 1972 Supreme Court ruling, but what about the rest of the states? There were six states that had already outlawed execution at the time of the ruling.\n",
    "\n",
    "**Question 4.2.** Create a table called `non_death_penalty_murder_rates` with the same columns as `murder_rates` but only containing rows for the six states without the death penalty in 1971. Perform the same test on this table. **Then**, in one sentence, conclude whether their murder rates were also more likely to increase from 1971 to 1973."
   ]
  },
  {
   "cell_type": "code",
   "execution_count": 23,
   "metadata": {},
   "outputs": [
    {
     "name": "stdout",
     "output_type": "stream",
     "text": [
      "Test statistic 1971 to 1973 : 1\n"
     ]
    },
    {
     "data": {
      "text/plain": [
       "0.6648"
      ]
     },
     "execution_count": 23,
     "metadata": {},
     "output_type": "execute_result"
    }
   ],
   "source": [
    "non_death_penalty_murder_rates = death_penalty.where('Death Penalty', are.equal_to(False))\n",
    "non_death_penalty_murder_rates = murder_rates.join('State',non_death_penalty_murder_rates).drop(4)\n",
    "run_test(non_death_penalty_murder_rates, 1971) "
   ]
  },
  {
   "cell_type": "markdown",
   "metadata": {},
   "source": [
    "*Write your answer here, replacing this text.*"
   ]
  },
  {
   "cell_type": "markdown",
   "metadata": {},
   "source": [
    "### The death penalty reinstated\n",
    "\n",
    "In 1976, the Supreme Court repealed its ban on the death penalty in its rulings on [a series of cases including Gregg v. Georgia](https://en.wikipedia.org/wiki/Gregg_v._Georgia), so the death penalty was reinstated where it was previously banned.  This generated a second natural experiment.  To the extent that the death penalty deters murder, reinstating it should decrease murder rates, just as banning it should increase them. Let's see what happened."
   ]
  },
  {
   "cell_type": "code",
   "execution_count": 25,
   "metadata": {},
   "outputs": [
    {
     "name": "stdout",
     "output_type": "stream",
     "text": [
      "Increases minus decreases from 1975 to 1977 (when the death penalty was reinstated) among death penalty states: -18\n",
      "Test statistic 1975 to 1977 : -18\n"
     ]
    },
    {
     "data": {
      "text/plain": [
       "0.0046"
      ]
     },
     "execution_count": 25,
     "metadata": {},
     "output_type": "execute_result"
    }
   ],
   "source": [
    "print(\"Increases minus decreases from 1975 to 1977 (when the death penalty was reinstated) among death penalty states:\",\n",
    "      sum(death_penalty_murder_rates.where('Year', are.between_or_equal_to(1975, 1977))\n",
    "                                    .group('State', two_year_changes)\n",
    "                                    .column(\"Murder Rate two_year_changes\")))\n",
    "run_test(death_penalty_murder_rates, 1975)"
   ]
  },
  {
   "cell_type": "markdown",
   "metadata": {},
   "source": [
    "*Hint:* To check your results, figure out what your test statistic should be when there are 18 more decreases than increases, and verify that that's the test statistic that was printed.  Also, you should have found a P-value near 0.01. If your P-value is very different, go back and inspect your `run_test` implementation and your test statistic to make sure that it correctly produces low P-values when there are many more decreases than increases."
   ]
  },
  {
   "cell_type": "markdown",
   "metadata": {},
   "source": [
    "**Question 4.3.** Now we've analyzed states where the death penalty went away and came back, as well as states where the death penalty was outlawed all along.  What do you conclude from  the results of the tests we have conducted so far? Does all the evidence consistently point toward one conclusion, or is there a contradiction?"
   ]
  },
  {
   "cell_type": "markdown",
   "metadata": {},
   "source": [
    "*When the death penalty was reinsted, the tests shows a decrese in the murder rate in the death penalty states. With this result we can reject the null null hypothesis, leading to the alternative hypothesis where we find a decrease in muder rates in death penalty states. *"
   ]
  },
  {
   "cell_type": "markdown",
   "metadata": {},
   "source": [
    "## 5. Visualization\n",
    "\n",
    "While our analysis appears to support the conclusion that the death penalty deters murder, [a 2006 Stanford Law Review paper](http://users.nber.org/~jwolfers/papers/DeathPenalty%28SLR%29.pdf) argues the opposite: that historical murder rates do **not** provide evidence that the death penalty deters murderers.\n",
    "\n",
    "To understand their argument, we will draw a picture.  In fact, we've gone at this whole analysis rather backward; typically we should draw a picture first and ask precise statistical questions later!\n",
    "\n",
    "What plot should we draw?\n",
    "\n",
    "We know that we want to compare murder rates of states with and without the death penalty.  We know we should focus on the period around the two natural experiments of 1972 and 1976, and we want to understand the evolution of murder rates over time for those groups of states.  It might be useful to look at other time periods, so let's plot them all for good measure."
   ]
  },
  {
   "cell_type": "markdown",
   "metadata": {},
   "source": [
    "**Question 5.1.** Create a table called `average_murder_rates` with 1 row for each year in `murder_rates`.  It should have 3 columns:\n",
    "* `Year`, the year,\n",
    "* `Death penalty states`, the average murder rate of the states that had the death penalty in 1971, and\n",
    "* `No death penalty states`, the average murder rate of the other states.\n",
    "\n",
    "`average_murder_rates` should be sorted in increasing order by year.  Its first three rows should look like:\n",
    "\n",
    "|Year|Death penalty states|No death penalty states|\n",
    "|-|-|-|\n",
    "|1960| | |\n",
    "|1961| | |\n",
    "|1962| | ||\n",
    "\n",
    "*Hint:*  Use `pivot`. To compute average murder rates across states, just average the murder rates; you do not need to account for differences in population."
   ]
  },
  {
   "cell_type": "code",
   "execution_count": 50,
   "metadata": {
    "scrolled": false
   },
   "outputs": [
    {
     "data": {
      "text/html": [
       "<table border=\"1\" class=\"dataframe\">\n",
       "    <thead>\n",
       "        <tr>\n",
       "            <th>Year</th> <th>AVG death in Death Penalty States</th> <th>AVG death in Non-Death-Penalty States</th>\n",
       "        </tr>\n",
       "    </thead>\n",
       "    <tbody>\n",
       "        <tr>\n",
       "            <td>1960</td> <td>5.27955                          </td> <td>3.55                                 </td>\n",
       "        </tr>\n",
       "        <tr>\n",
       "            <td>1961</td> <td>4.77727                          </td> <td>3.68333                              </td>\n",
       "        </tr>\n",
       "        <tr>\n",
       "            <td>1962</td> <td>4.61591                          </td> <td>2.33333                              </td>\n",
       "        </tr>\n",
       "        <tr>\n",
       "            <td>1963</td> <td>4.61364                          </td> <td>2.75                                 </td>\n",
       "        </tr>\n",
       "        <tr>\n",
       "            <td>1964</td> <td>4.71136                          </td> <td>3.4                                  </td>\n",
       "        </tr>\n",
       "        <tr>\n",
       "            <td>1965</td> <td>4.82727                          </td> <td>3.18333                              </td>\n",
       "        </tr>\n",
       "        <tr>\n",
       "            <td>1966</td> <td>5.43182                          </td> <td>4.51667                              </td>\n",
       "        </tr>\n",
       "        <tr>\n",
       "            <td>1967</td> <td>5.875                            </td> <td>3.73333                              </td>\n",
       "        </tr>\n",
       "        <tr>\n",
       "            <td>1968</td> <td>6.27045                          </td> <td>4.73333                              </td>\n",
       "        </tr>\n",
       "        <tr>\n",
       "            <td>1969</td> <td>6.50227                          </td> <td>4.73333                              </td>\n",
       "        </tr>\n",
       "    </tbody>\n",
       "</table>\n",
       "<p>... (34 rows omitted)</p>"
      ],
      "text/plain": [
       "Year | AVG death in Death Penalty States | AVG death in Non-Death-Penalty States\n",
       "1960 | 5.27955                           | 3.55\n",
       "1961 | 4.77727                           | 3.68333\n",
       "1962 | 4.61591                           | 2.33333\n",
       "1963 | 4.61364                           | 2.75\n",
       "1964 | 4.71136                           | 3.4\n",
       "1965 | 4.82727                           | 3.18333\n",
       "1966 | 5.43182                           | 4.51667\n",
       "1967 | 5.875                             | 3.73333\n",
       "1968 | 6.27045                           | 4.73333\n",
       "1969 | 6.50227                           | 4.73333\n",
       "... (34 rows omitted)"
      ]
     },
     "execution_count": 50,
     "metadata": {},
     "output_type": "execute_result"
    }
   ],
   "source": [
    "# For reference, our solution used 5 method calls\n",
    "states_with_death  = death_penalty_murder_rates.group('Year',np.mean)\n",
    "states_without_death = non_death_penalty_murder_rates.group('Year',np.mean)\n",
    "average_murder_rates = states_with_death.join('Year',states_without_death).select(0,3,6)\n",
    "average_murder_rates = average_murder_rates.relabel(1,'AVG death in Death Penalty States').relabel(2,'AVG death in Non-Death-Penalty States')\n",
    "average_murder_rates"
   ]
  },
  {
   "cell_type": "markdown",
   "metadata": {},
   "source": [
    "**Question 5.2.** Describe in **one short sentence** a high-level takeaway from the line plot below. Are the murder rates in these two groups of states related?"
   ]
  },
  {
   "cell_type": "code",
   "execution_count": 51,
   "metadata": {},
   "outputs": [
    {
     "data": {
      "image/png": "[encoded data removed]",
      "text/plain": [
       "<Figure size 432x288 with 1 Axes>"
      ]
     },
     "metadata": {},
     "output_type": "display_data"
    }
   ],
   "source": [
    "average_murder_rates.plot('Year')"
   ]
  },
  {
   "cell_type": "markdown",
   "metadata": {},
   "source": [
    "*For every year in states with the Death Penalty, they have a higher murder rate than states that do not have the death Penalty.*"
   ]
  },
  {
   "cell_type": "markdown",
   "metadata": {},
   "source": [
    "Let's bring in another source of information: Canada."
   ]
  },
  {
   "cell_type": "code",
   "execution_count": 52,
   "metadata": {},
   "outputs": [
    {
     "data": {
      "image/png": "[encoded data removed]",
      "text/plain": [
       "<Figure size 432x288 with 1 Axes>"
      ]
     },
     "metadata": {},
     "output_type": "display_data"
    }
   ],
   "source": [
    "canada = Table.read_table('canada.csv')\n",
    "murder_rates_with_canada = average_murder_rates.join(\"Year\", canada.select(\"Year\", \"Homicide\").relabeled(\"Homicide\", \"Canada\"))\n",
    "murder_rates_with_canada.plot('Year')"
   ]
  },
  {
   "cell_type": "markdown",
   "metadata": {},
   "source": [
    "The line plot we generated above is similar to a figure from the [paper](http://users.nber.org/~jwolfers/papers/DeathPenalty%28SLR%29.pdf).\n",
    "\n",
    "<img src=\"paper_plot.png\"/>\n",
    "\n",
    "Canada has not executed a criminal since 1962. Since 1967, the only crime that can be punished by execution in Canada is the murder of on-duty law enforcement personnel. The paper states, \"The most striking finding is that the homicide rate in Canada has moved in\n",
    "virtual lockstep with the rate in the United States.\""
   ]
  },
  {
   "cell_type": "markdown",
   "metadata": {},
   "source": [
    "**Question 5.4.** Complete their argument in 2-3 sentences; what features of these plots indicate that the death penalty is not an important factor in determining the murder rate? (If you're stuck, read the [paper](http://users.nber.org/~jwolfers/papers/DeathPenalty%28SLR%29.pdf).)"
   ]
  },
  {
   "cell_type": "markdown",
   "metadata": {},
   "source": [
    "*The murder rate in states are bound to rise and fall no matter if there is a death penalty or not. The results show that there is not a consisant change of muder rates in states, resulting in the conclusion that the murder rate is based from another factor. The population in some states are higher or lower than others but commit more crime, which changes the murder rate.*"
   ]
  },
  {
   "cell_type": "markdown",
   "metadata": {},
   "source": [
    "**Question 5.5.** What assumption(s) did we make in Parts 1 through 4 of the project that led us to believe that the death penalty deterred murder, when in fact the line plots tell a different story?"
   ]
  },
  {
   "cell_type": "markdown",
   "metadata": {},
   "source": [
    "*We assumed that the murder rate was the result of states having the death penalty or not. We understood this and did not take any other factors into our project. In the end, we found that the murder rate was caused by many other factors than the death penalty. The line graph shows us that murder rate is not by having the death penalty or not. *"
   ]
  },
  {
   "cell_type": "markdown",
   "metadata": {},
   "source": [
    "**You're done! Congratulations.**"
   ]
  }
 ],
 "metadata": {
  "kernelspec": {
   "display_name": "Python 3",
   "language": "python",
   "name": "python3"
  },
  "language_info": {
   "codemirror_mode": {
    "name": "ipython",
    "version": 3
   },
   "file_extension": ".py",
   "mimetype": "text/x-python",
   "name": "python",
   "nbconvert_exporter": "python",
   "pygments_lexer": "ipython3",
   "version": "3.7.4"
  }
 },
 "nbformat": 4,
 "nbformat_minor": 2
}
